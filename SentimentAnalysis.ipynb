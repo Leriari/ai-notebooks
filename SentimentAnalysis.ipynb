{
  "nbformat": 4,
  "nbformat_minor": 0,
  "metadata": {
    "colab": {
      "provenance": []
    },
    "kernelspec": {
      "name": "python3",
      "display_name": "Python 3"
    },
    "language_info": {
      "name": "python"
    }
  },
  "cells": [
    {
      "cell_type": "code",
      "source": [
        "!pip install tweepy\n",
        "\n"
      ],
      "metadata": {
        "colab": {
          "base_uri": "https://localhost:8080/"
        },
        "id": "7uZ0hURunOaZ",
        "outputId": "8c3279f6-e6ca-4953-f2a2-3977a8cc95bc"
      },
      "execution_count": null,
      "outputs": [
        {
          "output_type": "stream",
          "name": "stdout",
          "text": [
            "Requirement already satisfied: tweepy in /usr/local/lib/python3.12/dist-packages (4.16.0)\n",
            "Requirement already satisfied: oauthlib<4,>=3.2.0 in /usr/local/lib/python3.12/dist-packages (from tweepy) (3.3.1)\n",
            "Requirement already satisfied: requests<3,>=2.27.0 in /usr/local/lib/python3.12/dist-packages (from tweepy) (2.32.4)\n",
            "Requirement already satisfied: requests-oauthlib<3,>=1.2.0 in /usr/local/lib/python3.12/dist-packages (from tweepy) (2.0.0)\n",
            "Requirement already satisfied: charset_normalizer<4,>=2 in /usr/local/lib/python3.12/dist-packages (from requests<3,>=2.27.0->tweepy) (3.4.3)\n",
            "Requirement already satisfied: idna<4,>=2.5 in /usr/local/lib/python3.12/dist-packages (from requests<3,>=2.27.0->tweepy) (3.10)\n",
            "Requirement already satisfied: urllib3<3,>=1.21.1 in /usr/local/lib/python3.12/dist-packages (from requests<3,>=2.27.0->tweepy) (2.5.0)\n",
            "Requirement already satisfied: certifi>=2017.4.17 in /usr/local/lib/python3.12/dist-packages (from requests<3,>=2.27.0->tweepy) (2025.8.3)\n"
          ]
        }
      ]
    },
    {
      "cell_type": "code",
      "source": [
        "import tweepy\n",
        "\n",
        "# Replace with your own keys\n",
        "API_KEY = \"\"\n",
        "API_SECRET = \"\"\n",
        "ACCESS_TOKEN = \"\"\n",
        "ACCESS_TOKEN_SECRET = \"\"\n",
        "\n",
        "# Authenticate\n",
        "auth = tweepy.OAuth1UserHandler(API_KEY, API_SECRET, ACCESS_TOKEN, ACCESS_TOKEN_SECRET)\n",
        "api = tweepy.API(auth, wait_on_rate_limit=True)\n"
      ],
      "metadata": {
        "id": "r_HiVm4woOlz"
      },
      "execution_count": null,
      "outputs": []
    },
    {
      "cell_type": "code",
      "source": [
        "from textblob import TextBlob\n",
        "import tweepy # Import tweepy\n",
        "\n",
        "# Replace with your Bearer Token from developer portal\n",
        "BEARER_TOKEN = \"\"\n",
        "\n",
        "client = tweepy.Client(bearer_token=BEARER_TOKEN, wait_on_rate_limit=True)\n",
        "\n",
        "\n",
        "query = '(\"KenGen\" OR \"Standard Chartered Kenya\" OR \"$SBCK\" OR \"$KPLC\" OR \"$COOP\" OR \"$EQTY\" OR \"Kenya Re\" OR \"KNRE\") -is:retweet lang:en'\n",
        "\n",
        "tweets = client.search_recent_tweets(\n",
        "    query=query,\n",
        "    max_results=50,\n",
        "    tweet_fields=[\"created_at\", \"author_id\", \"public_metrics\", \"text\"]\n",
        ")\n",
        "\n",
        "cleaned = []\n",
        "for tweet in tweets.data:\n",
        "    text = tweet.text\n",
        "    # filter out unwanted mentions\n",
        "    if any(name in text for name in [\"KenGen\", \"KPLC\", \"COOP\", \"EQTY\", \"KNRE\", \"SBCK\", \"Standard Chartered\"]):\n",
        "        if not any(ignore in text for ignore in [\"@KenGen_\"]):\n",
        "            cleaned.append(tweet)\n",
        "\n",
        "for t in cleaned:\n",
        "    blob = TextBlob(t.text)\n",
        "    polarity = blob.sentiment.polarity   # -1 (negative) to +1 (positive)\n",
        "    subjectivity = blob.sentiment.subjectivity  # 0 (objective) to 1 (subjective)\n",
        "\n",
        "    sentiment = \"Neutral\"\n",
        "    if polarity > 0.1:\n",
        "        sentiment = \"Positive\"\n",
        "    elif polarity < -0.1:\n",
        "        sentiment = \"Negative\"\n",
        "\n",
        "    print(\n",
        "        t.id,\n",
        "        t.created_at,\n",
        "        f\"[{sentiment}]\",\n",
        "        f\"Polarity={polarity:.2f}, Subjectivity={subjectivity:.2f}\",\n",
        "        \"\\n\",\n",
        "        t.text[:120], \"\\n\"\n",
        "    )"
      ],
      "metadata": {
        "colab": {
          "base_uri": "https://localhost:8080/"
        },
        "id": "IIn3SITzpQdV",
        "outputId": "edfc9353-941b-4147-c44c-368a105eba21"
      },
      "execution_count": null,
      "outputs": [
        {
          "output_type": "stream",
          "name": "stderr",
          "text": [
            "WARNING:tweepy.client:Rate limit exceeded. Sleeping for 901 seconds.\n",
            "\n",
            "KeyboardInterrupt\n",
            "\n"
          ]
        }
      ]
    }
  ]
}