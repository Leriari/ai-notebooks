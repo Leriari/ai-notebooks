{
  "nbformat": 4,
  "nbformat_minor": 0,
  "metadata": {
    "colab": {
      "provenance": []
    },
    "kernelspec": {
      "name": "python3",
      "display_name": "Python 3"
    },
    "language_info": {
      "name": "python"
    }
  },
  "cells": [
    {
      "cell_type": "code",
      "source": [
        "# 4x4 maze: 0 = path, 1 = wall\n",
        "maze = [\n",
        "    [0,0,0,0],\n",
        "    [0,0,1,0],\n",
        "    [1,0,0,0],\n",
        "    [0,0,1,0]\n",
        "]\n",
        "\n",
        "\n",
        "# Agent position and knowledge base\n",
        "x, y = 0, 0   # start position\n",
        "goal_x, goal_y = 3, 3\n",
        "facts = []    # knowledge base (stores learned facts) / facts vs statements (T/F)"
      ],
      "metadata": {
        "id": "PIdOqYOXaRpm"
      },
      "execution_count": 36,
      "outputs": []
    },
    {
      "cell_type": "code",
      "source": [
        "def show_maze():\n",
        "    for i in range(4):\n",
        "        row = \"\"\n",
        "        for j in range(4):\n",
        "            if i == x and j == y:\n",
        "                row += \"A \"\n",
        "            elif i == goal_x and j == goal_y:\n",
        "                row += \"G \"\n",
        "            elif maze[i][j] == 1:\n",
        "                row += \"# \"\n",
        "            else:\n",
        "                row += \". \"\n",
        "        print(row)\n",
        "    print()\n",
        "\n",
        "# Agent position and knowledge base\n",
        "x, y = 0, 0   # start position\n",
        "goal_x, goal_y = 3, 3\n",
        "facts = []    # knowledge base (stores learned facts) / facts vs statements (T/F)\n",
        "\n",
        "\n",
        "def add_fact(fact):\n",
        "    \"\"\"Add a new fact to the knowledge base\"\"\"\n",
        "    facts.append(fact)\n",
        "    print(f\"Learned: {fact}\")\n",
        "    # free vs not free/ if you are next to a wall, etc\n",
        "\n",
        "\n",
        "def can_move(new_x, new_y):\n",
        "    \"\"\"\n",
        "    Rule: CanMove(X,Y) if Free(X,Y) AND InBounds(X,Y)\n",
        "    - InBounds ensures coordinates are valid\n",
        "    - Free(X,Y) must exist in the knowledge base\n",
        "    \"\"\"\n",
        "    in_bounds = 0 <= new_x < 4 and 0 <= new_y < 4\n",
        "    is_free = f\"Free({new_x},{new_y})\" in facts\n",
        "\n",
        "    print(f\"Can move to ({new_x},{new_y})? Free={is_free}, InBounds={in_bounds}\")\n",
        "    return in_bounds and is_free\n",
        "    # true or false"
      ],
      "metadata": {
        "id": "XnrV1kiUaRmo"
      },
      "execution_count": 37,
      "outputs": []
    },
    {
      "cell_type": "code",
      "source": [
        "show_maze()"
      ],
      "metadata": {
        "colab": {
          "base_uri": "https://localhost:8080/"
        },
        "id": "IE-otBoXvK5d",
        "outputId": "f8e91b12-e739-4278-c527-dc794f5d7ad7"
      },
      "execution_count": 38,
      "outputs": [
        {
          "output_type": "stream",
          "name": "stdout",
          "text": [
            "A . . . \n",
            ". . # . \n",
            "# . . . \n",
            ". . # G \n",
            "\n"
          ]
        }
      ]
    },
    {
      "cell_type": "code",
      "source": [
        "for i in range(4):\n",
        "    for j in range(4):\n",
        "        if maze[i][j] == 0:\n",
        "            add_fact(f\"Free({i},{j})\")\n",
        "\n",
        "print(f\"\\nKnowledge Base: {len(facts)} facts learned\")"
      ],
      "metadata": {
        "id": "z3dCY7c0aRja",
        "colab": {
          "base_uri": "https://localhost:8080/"
        },
        "outputId": "a11277f5-1b8c-471b-d979-d3bb21a332a1"
      },
      "execution_count": 39,
      "outputs": [
        {
          "output_type": "stream",
          "name": "stdout",
          "text": [
            "Learned: Free(0,0)\n",
            "Learned: Free(0,1)\n",
            "Learned: Free(0,2)\n",
            "Learned: Free(0,3)\n",
            "Learned: Free(1,0)\n",
            "Learned: Free(1,1)\n",
            "Learned: Free(1,3)\n",
            "Learned: Free(2,1)\n",
            "Learned: Free(2,2)\n",
            "Learned: Free(2,3)\n",
            "Learned: Free(3,0)\n",
            "Learned: Free(3,1)\n",
            "Learned: Free(3,3)\n",
            "\n",
            "Knowledge Base: 13 facts learned\n"
          ]
        }
      ]
    },
    {
      "cell_type": "code",
      "source": [
        "# up/down/left/right moves\n",
        "moves = [\n",
        "    (1,0), (2,0), (3,0),   # go down then right across row 1\n",
        "     (2,2), (2,3),          # go down into row 2\n",
        "     (3,3)\n",
        "]\n",
        "\n",
        "\n",
        "# Alt 2\n",
        "# moves = [(0,1), (1,0), (1,1)]\n",
        "\n",
        "\n"
      ],
      "metadata": {
        "id": "72U2TUn1xtJt"
      },
      "execution_count": 40,
      "outputs": []
    },
    {
      "cell_type": "code",
      "source": [
        "for new_x, new_y in moves:\n",
        "    print(f\"\\nTrying to move to ({new_x},{new_y}):\")\n",
        "\n",
        "    if can_move(new_x, new_y):\n",
        "        x, y = new_x, new_y\n",
        "        print(f\"Moved to ({x},{y})\")\n",
        "\n",
        "       # Task 1: Add \"Visited\" Fact\n",
        "        add_fact(f\"Visited({x},{y})\")\n",
        "\n",
        "        # Task 2: Add \"NextToWall\" Fact\n",
        "        # Check adjacent cells for walls\n",
        "        adjacent_cells = [(x+1, y), (x-1, y), (x, y+1), (x, y-1)]\n",
        "        for adj_x, adj_y in adjacent_cells:\n",
        "            if 0 <= adj_x < 4 and 0 <= adj_y < 4 and maze[adj_x][adj_y] == 1:\n",
        "                add_fact(f\"NextToWall({x},{y})\")\n",
        "                break # Only need to add the fact once if next to any wall\n",
        "\n",
        "        show_maze()\n",
        "    else:\n",
        "        print(\"Cannot move there!\")\n",
        "\n",
        "\n",
        "\n",
        "\n",
        "# # Check if agent reached target\n",
        "# if x == 1 and y == 1:\n",
        "#     print(\"SUCCESS-  Agent reached goal\")\n",
        "# else:\n",
        "#     print(\"Agent got stuck\")"
      ],
      "metadata": {
        "id": "YH_T9elLaRgb",
        "colab": {
          "base_uri": "https://localhost:8080/"
        },
        "outputId": "eb560c83-38ed-4075-8305-246c02f77e52"
      },
      "execution_count": 41,
      "outputs": [
        {
          "output_type": "stream",
          "name": "stdout",
          "text": [
            "\n",
            "Trying to move to (1,0):\n",
            "Can move to (1,0)? Free=True, InBounds=True\n",
            "Moved to (1,0)\n",
            "Learned: Visited(1,0)\n",
            "Learned: NextToWall(1,0)\n",
            ". . . . \n",
            "A . # . \n",
            "# . . . \n",
            ". . # G \n",
            "\n",
            "\n",
            "Trying to move to (2,0):\n",
            "Can move to (2,0)? Free=False, InBounds=True\n",
            "Cannot move there!\n",
            "\n",
            "Trying to move to (3,0):\n",
            "Can move to (3,0)? Free=True, InBounds=True\n",
            "Moved to (3,0)\n",
            "Learned: Visited(3,0)\n",
            "Learned: NextToWall(3,0)\n",
            ". . . . \n",
            ". . # . \n",
            "# . . . \n",
            "A . # G \n",
            "\n",
            "\n",
            "Trying to move to (2,2):\n",
            "Can move to (2,2)? Free=True, InBounds=True\n",
            "Moved to (2,2)\n",
            "Learned: Visited(2,2)\n",
            "Learned: NextToWall(2,2)\n",
            ". . . . \n",
            ". . # . \n",
            "# . A . \n",
            ". . # G \n",
            "\n",
            "\n",
            "Trying to move to (2,3):\n",
            "Can move to (2,3)? Free=True, InBounds=True\n",
            "Moved to (2,3)\n",
            "Learned: Visited(2,3)\n",
            ". . . . \n",
            ". . # . \n",
            "# . . A \n",
            ". . # G \n",
            "\n",
            "\n",
            "Trying to move to (3,3):\n",
            "Can move to (3,3)? Free=True, InBounds=True\n",
            "Moved to (3,3)\n",
            "Learned: Visited(3,3)\n",
            "Learned: NextToWall(3,3)\n",
            ". . . . \n",
            ". . # . \n",
            "# . . . \n",
            ". . # A \n",
            "\n"
          ]
        }
      ]
    },
    {
      "cell_type": "markdown",
      "source": [
        "-------\n",
        "\n",
        "\n",
        "# Class Exercise: Due Oct 3rd:\n",
        "\n",
        "Add more statements / facts to agent KB based on the maze. You can use these newely added items to move from S to G:\n",
        "\n",
        "- Task 1. Add “Visited” Facts: Each time the agent moves to a new cell (x,y), add \"Visited(x,y)\" to the KB.\n",
        "\n",
        "- Task 2. Add “NextToWall” Facts: After moving, check if the agent is next to a wall (up, down, left, or right). *If yes, add a fact like \"NextToWall(x,y)\" to the KB.*\n",
        "\n",
        "\n",
        "\n"
      ],
      "metadata": {
        "id": "7FPJR1HktNhG"
      }
    },
    {
      "cell_type": "code",
      "source": [
        "print(\"Free Facts:\")\n",
        "for fact in facts:\n",
        "    if fact.startswith(\"Free\"):\n",
        "        print(f\"- {fact}\")\n",
        "print()\n",
        "\n",
        "print(\"Visited Facts:\")\n",
        "for fact in facts:\n",
        "    if fact.startswith(\"Visited\"):\n",
        "        print(f\"- {fact}\")\n",
        "print()\n",
        "\n",
        "print(\"NextToWall Facts:\")\n",
        "for fact in facts:\n",
        "    if fact.startswith(\"NextToWall\"):\n",
        "        print(f\"- {fact}\")\n",
        "print()"
      ],
      "metadata": {
        "id": "NXEpiIFcyCbw",
        "outputId": "a01e33da-42bf-4efe-f5f7-5d1b9b491069",
        "colab": {
          "base_uri": "https://localhost:8080/"
        }
      },
      "execution_count": 46,
      "outputs": [
        {
          "output_type": "stream",
          "name": "stdout",
          "text": [
            "Free Facts:\n",
            "- Free(0,0)\n",
            "- Free(0,1)\n",
            "- Free(0,2)\n",
            "- Free(0,3)\n",
            "- Free(1,0)\n",
            "- Free(1,1)\n",
            "- Free(1,3)\n",
            "- Free(2,1)\n",
            "- Free(2,2)\n",
            "- Free(2,3)\n",
            "- Free(3,0)\n",
            "- Free(3,1)\n",
            "- Free(3,3)\n",
            "\n",
            "Visited Facts:\n",
            "- Visited(1,0)\n",
            "- Visited(3,0)\n",
            "- Visited(2,2)\n",
            "- Visited(2,3)\n",
            "- Visited(3,3)\n",
            "\n",
            "NextToWall Facts:\n",
            "- NextToWall(1,0)\n",
            "- NextToWall(3,0)\n",
            "- NextToWall(2,2)\n",
            "- NextToWall(3,3)\n",
            "\n"
          ]
        }
      ]
    }
  ]
}