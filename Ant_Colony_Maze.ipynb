{
  "nbformat": 4,
  "nbformat_minor": 0,
  "metadata": {
    "colab": {
      "provenance": []
    },
    "kernelspec": {
      "name": "python3",
      "display_name": "Python 3"
    },
    "language_info": {
      "name": "python"
    }
  },
  "cells": [
    {
      "cell_type": "markdown",
      "source": [
        "Ant Colony Optimization (ACO) >> Think of Ants as Agents in a Multi-Agent ENV Setup >> Colaborative\n"
      ],
      "metadata": {
        "id": "Lqh0a2cu6IP7"
      }
    },
    {
      "cell_type": "markdown",
      "source": [
        "Walkthrough\n",
        "This notebook demonstrates how Ant Colony Optimization (ACO) can be used by AI agents to navigate a maze. We’ll simulate a group of ants trying to find the path from a start to a goal.\n",
        "\n",
        "Ants can succeed (find food) or fail (dead end or loop).\n",
        "Successful ants leave pheromones on their path.\n",
        "Pheromones evaporate over time, preventing the colony from getting stuck.\n"
      ],
      "metadata": {
        "id": "V1jckRMw6SqA"
      }
    },
    {
      "cell_type": "code",
      "execution_count": 1,
      "metadata": {
        "id": "I2HVu3A94qT_"
      },
      "outputs": [],
      "source": [
        "import random\n",
        "import numpy as np"
      ]
    },
    {
      "cell_type": "code",
      "source": [
        "# 0 = free cell, 1 = wall\n",
        "maze = [\n",
        "    [0, 0, 0],\n",
        "    [0, 1, 0],\n",
        "    [0, 0, 0]\n",
        "]\n",
        "\n",
        "\n",
        "\n",
        "'''\n",
        "maze = [\n",
        "    [0, 0, 0, 0, 0],\n",
        "    [1, 1, 0, 1, 0],\n",
        "    [0, 0, 0, 0, 0],\n",
        "    [1, 1, 1, 1, 0],\n",
        "    [0, 0, 1, 0, 0],\n",
        "]\n",
        "'''\n",
        "start, end = (0, 0), (2, 2)   # Start top-left, goal bottom-right"
      ],
      "metadata": {
        "id": "v_FFPp-c4uxO"
      },
      "execution_count": 2,
      "outputs": []
    },
    {
      "cell_type": "code",
      "source": [
        "n_ants = 5            # Number of ants per iteration\n",
        "n_iterations = 2      # Number of rounds\n",
        "evaporation_rate = 0.5  # Start with 0.1 (slow fade), later try 0.9\n",
        "\n",
        "# Pheromone levels (all start equal = 1)\n",
        "pheromones = np.ones((len(maze), len(maze[0])))\n",
        "\n",
        "# Moves: right, left, down, up,\n",
        "# Add diagonals, just as we did in the ealier weeks\n",
        "moves = [(0,1),(0,-1),(1,0),(-1,0)]"
      ],
      "metadata": {
        "id": "l8Bsva2b4xIK"
      },
      "execution_count": 3,
      "outputs": []
    },
    {
      "cell_type": "code",
      "source": [
        "# Check if cell is valid (inside maze and not a wall)\n",
        "def valid(x, y):\n",
        "    return 0 <= x < len(maze) and 0 <= y < len(maze[0]) and maze[x][y] == 0\n",
        "\n",
        "# Simulate one ant walking\n",
        "def ant_walk():\n",
        "    path = [start]\n",
        "    visited = set([start])\n",
        "    current = start\n",
        "\n",
        "    while current != end:\n",
        "        x, y = current\n",
        "        # Possible moves\n",
        "        neighbors = [(x+dx, y+dy) for dx,dy in moves if valid(x+dx,y+dy)]\n",
        "        if not neighbors:\n",
        "            return None  # Dead end → failure\n",
        "\n",
        "        # Pick next cell with probability ∝ pheromone level\n",
        "        probs = [pheromones[nx][ny] for nx,ny in neighbors]\n",
        "        total = sum(probs)\n",
        "        probs = [p/total for p in probs]\n",
        "        current = random.choices(neighbors, probs)[0]\n",
        "\n",
        "        if current in visited:\n",
        "            return None  # Loop → failure\n",
        "\n",
        "        visited.add(current)\n",
        "        path.append(current)\n",
        "\n",
        "    return path  # Success"
      ],
      "metadata": {
        "id": "fFa7eSK54zz0"
      },
      "execution_count": 4,
      "outputs": []
    },
    {
      "cell_type": "code",
      "source": [
        "best_path = None\n",
        "for it in range(1, n_iterations+1):\n",
        "    print(f\"\\n=== Iteration {it} ===\")\n",
        "    all_paths = []\n",
        "\n",
        "    # Each ant tries to find the goal\n",
        "    for a in range(1, n_ants+1):\n",
        "        path = ant_walk()\n",
        "        if path:\n",
        "            print(f\"Ant {a}: SUCCESS (length {len(path)}) {path}\")\n",
        "            all_paths.append(path)\n",
        "            # Deposit pheromone on path (shorter path → more pheromone)\n",
        "            for (x,y) in path:\n",
        "                pheromones[x][y] += 1.0 / len(path)\n",
        "        else:\n",
        "            print(f\"Ant {a}: FAILED (dead end or loop)\")\n",
        "\n",
        "    # Evaporation: reduce pheromone everywhere\n",
        "    pheromones *= (1 - evaporation_rate)\n",
        "\n",
        "    # Track best path so far\n",
        "    if all_paths:\n",
        "        best = min(all_paths, key=len)\n",
        "        if best_path is None or len(best) < len(best_path):\n",
        "            best_path = best\n",
        "    print(f\"Best so far: {len(best_path) if best_path else None} steps\")"
      ],
      "metadata": {
        "colab": {
          "base_uri": "https://localhost:8080/"
        },
        "id": "MuaKxl-6433A",
        "outputId": "0e077e08-0a80-484b-dbd9-a61448cea4c2"
      },
      "execution_count": 9,
      "outputs": [
        {
          "output_type": "stream",
          "name": "stdout",
          "text": [
            "\n",
            "=== Iteration 1 ===\n",
            "Ant 1: SUCCESS (length 5) [(0, 0), (0, 1), (0, 2), (1, 2), (2, 2)]\n",
            "Ant 2: FAILED (dead end or loop)\n",
            "Ant 3: FAILED (dead end or loop)\n",
            "Ant 4: FAILED (dead end or loop)\n",
            "Ant 5: FAILED (dead end or loop)\n",
            "Best so far: 5 steps\n",
            "\n",
            "=== Iteration 2 ===\n",
            "Ant 1: FAILED (dead end or loop)\n",
            "Ant 2: FAILED (dead end or loop)\n",
            "Ant 3: FAILED (dead end or loop)\n",
            "Ant 4: SUCCESS (length 5) [(0, 0), (0, 1), (0, 2), (1, 2), (2, 2)]\n",
            "Ant 5: FAILED (dead end or loop)\n",
            "Best so far: 5 steps\n"
          ]
        }
      ]
    },
    {
      "cell_type": "code",
      "source": [
        "print(\"\\nFinal Best Path:\")\n",
        "print(best_path)"
      ],
      "metadata": {
        "colab": {
          "base_uri": "https://localhost:8080/"
        },
        "id": "9CSpn2K0474t",
        "outputId": "73c6396e-c0fe-4c40-ae1e-bc5daa48fc0c"
      },
      "execution_count": 6,
      "outputs": [
        {
          "output_type": "stream",
          "name": "stdout",
          "text": [
            "\n",
            "Final Best Path:\n",
            "[(0, 0), (1, 0), (2, 0), (2, 1), (2, 2)]\n"
          ]
        }
      ]
    },
    {
      "cell_type": "code",
      "source": [],
      "metadata": {
        "id": "fqLf2AZTBMEB"
      },
      "execution_count": null,
      "outputs": []
    }
  ]
}