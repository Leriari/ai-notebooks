{
  "cells": [
    {
      "cell_type": "markdown",
      "metadata": {
        "id": "Lqh0a2cu6IP7"
      },
      "source": [
        "Ant Colony Optimization (ACO) >> Think of Ants as Agents in a Multi-Agent ENV Setup >> Colaborative\n"
      ]
    },
    {
      "cell_type": "markdown",
      "metadata": {
        "id": "V1jckRMw6SqA"
      },
      "source": [
        "Walkthrough\n",
        "This notebook demonstrates how Ant Colony Optimization (ACO) can be used by AI agents to navigate a maze. We’ll simulate a group of ants trying to find the path from a start to a goal.\n",
        "\n",
        "Ants can succeed (find food) or fail (dead end or loop).\n",
        "Successful ants leave pheromones on their path.\n",
        "Pheromones evaporate over time, preventing the colony from getting stuck.\n"
      ]
    },
    {
      "cell_type": "code",
      "execution_count": 52,
      "metadata": {
        "id": "I2HVu3A94qT_"
      },
      "outputs": [],
      "source": [
        "import random\n",
        "import numpy as np"
      ]
    },
    {
      "cell_type": "code",
      "execution_count": 53,
      "metadata": {
        "id": "v_FFPp-c4uxO"
      },
      "outputs": [],
      "source": [
        "# 0 = free cell, 1 = wall\n",
        "# maze = [\n",
        "#     [0, 0, 0],\n",
        "#     [0, 1, 0],\n",
        "#     [0, 0, 0]\n",
        "# ]\n",
        "\n",
        "\n",
        "\n",
        "\n",
        "maze = [\n",
        "    [0, 0, 0, 0, 0],\n",
        "    [1, 1, 0, 1, 0],\n",
        "    [0, 0, 0, 0, 0],\n",
        "    [1, 1, 1, 1, 0],\n",
        "    [0, 0, 1, 0, 0],\n",
        "]\n",
        "\n",
        "start, end = (0, 0), (4, 4)   # Start top-left, goal bottom-right"
      ]
    },
    {
      "cell_type": "code",
      "execution_count": 54,
      "metadata": {
        "id": "l8Bsva2b4xIK"
      },
      "outputs": [],
      "source": [
        "n_ants = 7            # Number of ants per iteration\n",
        "n_iterations = 5    # Number of rounds\n",
        "evaporation_rate = 0.5  # Start with 0.1 (slow fade), later try 0.9\n",
        "\n",
        "# Pheromone levels (all start equal = 1)\n",
        "pheromones = np.ones((len(maze), len(maze[0])))\n",
        "\n",
        "# Moves: right, left, down, up,\n",
        "# Add diagonals, just as we did in the ealier weeks\n",
        "moves = [(0,1),(0,-1),(1,0),(-1,0)]"
      ]
    },
    {
      "cell_type": "code",
      "execution_count": 57,
      "metadata": {
        "id": "fFa7eSK54zz0"
      },
      "outputs": [],
      "source": [
        "# Check if cell is valid (inside maze and not a wall)\n",
        "def valid(x, y):\n",
        "    return 0 <= x < len(maze) and 0 <= y < len(maze[0]) and maze[x][y] == 0\n",
        "\n",
        "# Simulate one ant walking\n",
        "def ant_walk():\n",
        "    path = [start]\n",
        "    visited = set([start])\n",
        "    current = start\n",
        "    moves_made =0\n",
        "\n",
        "    while current != end:\n",
        "      moves_made += 1\n",
        "      if moves_made > 7:\n",
        "        return None\n",
        "        x, y = current\n",
        "        # Possible moves\n",
        "        neighbors = [(x+dx, y+dy) for dx,dy in moves if valid(x+dx,y+dy)]\n",
        "        if not neighbors:\n",
        "            return None  # Dead end → failure\n",
        "\n",
        "        # Pick next cell with probability ∝ pheromone level\n",
        "\n",
        "        # probs = [pheromones[nx][ny] for nx,ny in neighbors]\n",
        "        probs =[pheromones[nx][ny] *(1.0 / (abs(end[0]-nx) + abs(end[1]-ny)+1)) for nx,ny in neighbors]\n",
        "        total = sum(probs)\n",
        "        probs = [p/total for p in probs]\n",
        "        current = random.choices(neighbors, probs)[0]\n",
        "\n",
        "        if current in visited:\n",
        "            return None  # Loop → failure\n",
        "\n",
        "        visited.add(current)\n",
        "        path.append(current)\n",
        "\n",
        "\n",
        "    return path  # Success"
      ]
    },
    {
      "cell_type": "code",
      "source": [
        "best_path = None\n",
        "for it in range(1, n_iterations+1):\n",
        "    print(f\"\\n=== Iteration {it} ===\")\n",
        "    all_paths = []\n",
        "\n",
        "    # Each ant tries to find the goal\n",
        "    for a in range(1, n_ants+1):\n",
        "        path = ant_walk()\n",
        "        if path:\n",
        "            print(f\"Ant {a}: SUCCESS (length {len(path)}) {path}\")\n",
        "            all_paths.append(path)\n",
        "            # Deposit pheromone on path (shorter path → more pheromone)\n",
        "            #The amount of pheromone deposited is inversely proportional to the path length (1.0 / len(path)), rewarding shorter paths with more pheromones.\n",
        "            for (x,y) in path:\n",
        "                pheromones[x][y] += 1.0 / len(path)\n",
        "        else:\n",
        "            print(f\"Ant {a}: FAILED (dead end or loop)\")\n",
        "\n",
        "    # Evaporation: reduce pheromone everywhere\n",
        "    pheromones *= (1 - evaporation_rate)\n",
        "\n",
        "    # Print pheromone grid\n",
        "    print(\"\\nPheromone Grid:\")\n",
        "    for row in pheromones:\n",
        "        print(row)\n",
        "\n",
        "    # Track best path so far\n",
        "    if all_paths:\n",
        "        best = min(all_paths, key=len)\n",
        "        if best_path is None or len(best) < len(best_path):\n",
        "            best_path = best\n",
        "    print(f\"\\nBest so far: {len(best_path) if best_path else None} steps\")"
      ],
      "metadata": {
        "colab": {
          "base_uri": "https://localhost:8080/"
        },
        "id": "0Te3uPi73rwM",
        "outputId": "124fb103-aa33-4157-f317-b96d7e61cf42"
      },
      "execution_count": 63,
      "outputs": [
        {
          "output_type": "stream",
          "name": "stdout",
          "text": [
            "\n",
            "=== Iteration 1 ===\n",
            "Ant 1: FAILED (dead end or loop)\n",
            "Ant 2: FAILED (dead end or loop)\n",
            "Ant 3: FAILED (dead end or loop)\n",
            "Ant 4: FAILED (dead end or loop)\n",
            "Ant 5: FAILED (dead end or loop)\n",
            "Ant 6: FAILED (dead end or loop)\n",
            "Ant 7: FAILED (dead end or loop)\n",
            "\n",
            "Pheromone Grid:\n",
            "[4.65661287e-10 4.65661287e-10 4.65661287e-10 4.65661287e-10\n",
            " 4.65661287e-10]\n",
            "[4.65661287e-10 4.65661287e-10 4.65661287e-10 4.65661287e-10\n",
            " 4.65661287e-10]\n",
            "[4.65661287e-10 4.65661287e-10 4.65661287e-10 4.65661287e-10\n",
            " 4.65661287e-10]\n",
            "[4.65661287e-10 4.65661287e-10 4.65661287e-10 4.65661287e-10\n",
            " 4.65661287e-10]\n",
            "[4.65661287e-10 4.65661287e-10 4.65661287e-10 4.65661287e-10\n",
            " 4.65661287e-10]\n",
            "\n",
            "Best so far: None steps\n",
            "\n",
            "=== Iteration 2 ===\n",
            "Ant 1: FAILED (dead end or loop)\n",
            "Ant 2: FAILED (dead end or loop)\n",
            "Ant 3: FAILED (dead end or loop)\n",
            "Ant 4: FAILED (dead end or loop)\n",
            "Ant 5: FAILED (dead end or loop)\n",
            "Ant 6: FAILED (dead end or loop)\n",
            "Ant 7: FAILED (dead end or loop)\n",
            "\n",
            "Pheromone Grid:\n",
            "[2.32830644e-10 2.32830644e-10 2.32830644e-10 2.32830644e-10\n",
            " 2.32830644e-10]\n",
            "[2.32830644e-10 2.32830644e-10 2.32830644e-10 2.32830644e-10\n",
            " 2.32830644e-10]\n",
            "[2.32830644e-10 2.32830644e-10 2.32830644e-10 2.32830644e-10\n",
            " 2.32830644e-10]\n",
            "[2.32830644e-10 2.32830644e-10 2.32830644e-10 2.32830644e-10\n",
            " 2.32830644e-10]\n",
            "[2.32830644e-10 2.32830644e-10 2.32830644e-10 2.32830644e-10\n",
            " 2.32830644e-10]\n",
            "\n",
            "Best so far: None steps\n",
            "\n",
            "=== Iteration 3 ===\n",
            "Ant 1: FAILED (dead end or loop)\n",
            "Ant 2: FAILED (dead end or loop)\n",
            "Ant 3: FAILED (dead end or loop)\n",
            "Ant 4: FAILED (dead end or loop)\n",
            "Ant 5: FAILED (dead end or loop)\n",
            "Ant 6: FAILED (dead end or loop)\n",
            "Ant 7: FAILED (dead end or loop)\n",
            "\n",
            "Pheromone Grid:\n",
            "[1.16415322e-10 1.16415322e-10 1.16415322e-10 1.16415322e-10\n",
            " 1.16415322e-10]\n",
            "[1.16415322e-10 1.16415322e-10 1.16415322e-10 1.16415322e-10\n",
            " 1.16415322e-10]\n",
            "[1.16415322e-10 1.16415322e-10 1.16415322e-10 1.16415322e-10\n",
            " 1.16415322e-10]\n",
            "[1.16415322e-10 1.16415322e-10 1.16415322e-10 1.16415322e-10\n",
            " 1.16415322e-10]\n",
            "[1.16415322e-10 1.16415322e-10 1.16415322e-10 1.16415322e-10\n",
            " 1.16415322e-10]\n",
            "\n",
            "Best so far: None steps\n",
            "\n",
            "=== Iteration 4 ===\n",
            "Ant 1: FAILED (dead end or loop)\n",
            "Ant 2: FAILED (dead end or loop)\n",
            "Ant 3: FAILED (dead end or loop)\n",
            "Ant 4: FAILED (dead end or loop)\n",
            "Ant 5: FAILED (dead end or loop)\n",
            "Ant 6: FAILED (dead end or loop)\n",
            "Ant 7: FAILED (dead end or loop)\n",
            "\n",
            "Pheromone Grid:\n",
            "[5.82076609e-11 5.82076609e-11 5.82076609e-11 5.82076609e-11\n",
            " 5.82076609e-11]\n",
            "[5.82076609e-11 5.82076609e-11 5.82076609e-11 5.82076609e-11\n",
            " 5.82076609e-11]\n",
            "[5.82076609e-11 5.82076609e-11 5.82076609e-11 5.82076609e-11\n",
            " 5.82076609e-11]\n",
            "[5.82076609e-11 5.82076609e-11 5.82076609e-11 5.82076609e-11\n",
            " 5.82076609e-11]\n",
            "[5.82076609e-11 5.82076609e-11 5.82076609e-11 5.82076609e-11\n",
            " 5.82076609e-11]\n",
            "\n",
            "Best so far: None steps\n",
            "\n",
            "=== Iteration 5 ===\n",
            "Ant 1: FAILED (dead end or loop)\n",
            "Ant 2: FAILED (dead end or loop)\n",
            "Ant 3: FAILED (dead end or loop)\n",
            "Ant 4: FAILED (dead end or loop)\n",
            "Ant 5: FAILED (dead end or loop)\n",
            "Ant 6: FAILED (dead end or loop)\n",
            "Ant 7: FAILED (dead end or loop)\n",
            "\n",
            "Pheromone Grid:\n",
            "[2.91038305e-11 2.91038305e-11 2.91038305e-11 2.91038305e-11\n",
            " 2.91038305e-11]\n",
            "[2.91038305e-11 2.91038305e-11 2.91038305e-11 2.91038305e-11\n",
            " 2.91038305e-11]\n",
            "[2.91038305e-11 2.91038305e-11 2.91038305e-11 2.91038305e-11\n",
            " 2.91038305e-11]\n",
            "[2.91038305e-11 2.91038305e-11 2.91038305e-11 2.91038305e-11\n",
            " 2.91038305e-11]\n",
            "[2.91038305e-11 2.91038305e-11 2.91038305e-11 2.91038305e-11\n",
            " 2.91038305e-11]\n",
            "\n",
            "Best so far: None steps\n"
          ]
        }
      ]
    },
    {
      "cell_type": "code",
      "execution_count": null,
      "metadata": {
        "id": "9CSpn2K0474t",
        "colab": {
          "base_uri": "https://localhost:8080/"
        },
        "outputId": "dfa702cc-eb2a-4aa0-c8bb-d167215cc720"
      },
      "outputs": [
        {
          "output_type": "stream",
          "name": "stdout",
          "text": [
            "\n",
            "Final Best Path:\n",
            "None\n"
          ]
        }
      ],
      "source": [
        "print(\"\\nFinal Best Path:\")\n",
        "print(best_path)"
      ]
    },
    {
      "cell_type": "markdown",
      "metadata": {
        "id": "LgVgvkR5tCiS"
      },
      "source": [
        "Task 2: Change Ant Numbers\n",
        "\n",
        "Set n_ants = 2 vs n_ants = 20. (inc or dec number of agents)\n",
        "Which case finds a path faster? Why?\n",
        "Therefore, in this case, running the simulation with 20 ants found a path faster (in fewer iterations) than with 2 ants. This is likely because a larger number of ants explore more possible paths in parallel, increasing the chance of finding a successful path earlier in the process.\n",
        "\n",
        "Task 3: Add a Move Limit\n",
        "\n",
        "Add a rule: if an ant moves more than 10 steps, it “dies.”\n",
        "How does this change success rate?\n",
        "\n",
        "This generally decreases the success rate per ant in each iteration, as longer paths that might have eventually reached the goal are now cut short."
      ]
    },
    {
      "cell_type": "code",
      "execution_count": null,
      "metadata": {
        "id": "mius09EVtD-a"
      },
      "outputs": [],
      "source": []
    }
  ],
  "metadata": {
    "colab": {
      "provenance": []
    },
    "kernelspec": {
      "display_name": "Python 3",
      "name": "python3"
    },
    "language_info": {
      "name": "python"
    }
  },
  "nbformat": 4,
  "nbformat_minor": 0
}