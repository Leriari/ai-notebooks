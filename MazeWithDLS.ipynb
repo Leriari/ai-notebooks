{
  "nbformat": 4,
  "nbformat_minor": 0,
  "metadata": {
    "colab": {
      "provenance": []
    },
    "kernelspec": {
      "name": "python3",
      "display_name": "Python 3"
    },
    "language_info": {
      "name": "python"
    }
  },
  "cells": [
    {
      "cell_type": "code",
      "source": [
        "grid = [\n",
        "    [0, 0, 0, 0, 0],\n",
        "    [1, 1, 0, 1, 0],\n",
        "    [0, 0, 0, 0, 0],\n",
        "    [0, 1, 0, 1, 0],\n",
        "    [0, 0, 0, 0, 0],\n",
        "]\n",
        "start = (0,0)\n",
        "goal = (4,4)"
      ],
      "metadata": {
        "id": "-EELrRxDzTcg"
      },
      "execution_count": 26,
      "outputs": []
    },
    {
      "cell_type": "code",
      "source": [
        "from collections import deque"
      ],
      "metadata": {
        "id": "YPMEWkvUzb5o"
      },
      "execution_count": 5,
      "outputs": []
    },
    {
      "cell_type": "code",
      "source": [
        "def get_neighbours(maze, node):\n",
        "  x,y = node\n",
        "  neighbours =[]\n",
        "\n",
        "  moves = [(0,1), (1,0), (0,-1),(-1,0) ]\n",
        "  moves += [(1,1),(1,-1),(-1,1),(-1,-1)]\n",
        "  # right, down , left , up\n",
        "  for dx, dy in moves:\n",
        "    nx, ny = x+dx, y+dy\n",
        "    if 0 <=nx <len(maze) and 0 <= ny < len(maze[0]):\n",
        "      if maze [nx][ny]== 0:\n",
        "        neighbours.append((nx,ny))\n",
        "  return neighbours\n"
      ],
      "metadata": {
        "id": "bvNsQ9TB0IyQ"
      },
      "execution_count": 40,
      "outputs": []
    },
    {
      "cell_type": "code",
      "source": [
        "# Strat 1: BFS - level by level solution queue\n",
        "def bfs (maze, start, goal):\n",
        "  queue = deque([(start, [start])])\n",
        "  visited = set()\n",
        "  while queue:\n",
        "    node, path = queue.popleft()\n",
        "    if node == goal:\n",
        "      return path\n",
        "\n",
        "    if node not in visited:\n",
        "        visited.add (node)\n",
        "        for neighbour in get_neighbours(maze, node):\n",
        "          queue.append((neighbour, path+[neighbour]))\n",
        "  return None"
      ],
      "metadata": {
        "id": "mj_zc_DE3q_a"
      },
      "execution_count": 47,
      "outputs": []
    },
    {
      "cell_type": "code",
      "source": [
        "# Strat 2 : DFS -- stack - backtrack\n",
        "def dfs (maze, start, goal):\n",
        "  stack = [(start , [start])]\n",
        "  visited = set()\n",
        "\n",
        "  while stack:\n",
        "    node, path = stack.pop()\n",
        "    if node == goal:\n",
        "      return path\n",
        "    if node not in visited:\n",
        "      visited.add(node)\n",
        "      for neighbour in get_neighbours(maze, node):\n",
        "        stack.append((neighbour, path+[neighbour]))\n",
        "  return None"
      ],
      "metadata": {
        "id": "i4ptiKKA6ucm"
      },
      "execution_count": 16,
      "outputs": []
    },
    {
      "cell_type": "code",
      "source": [
        "# Strat 3: DLS >> depth limited search\n",
        "def dls (maze, start, goal, limit):\n",
        "  stack = [(start, [start])]\n",
        "\n",
        "  while stack:\n",
        "    node, path = stack.pop()\n",
        "    if node == goal:\n",
        "      return path\n",
        "    if len(path) <= limit:\n",
        "      for neighbour in get_neighbours(maze, node):\n",
        "        stack.append((neighbour, path+[neighbour]))\n",
        "  return None\n"
      ],
      "metadata": {
        "id": "mHEP3bLv8qpg"
      },
      "execution_count": 57,
      "outputs": []
    },
    {
      "cell_type": "code",
      "source": [
        "# Dictionary of strategies\n",
        "starts = {\n",
        "    \"DFS\": lambda m, s, g: dfs(m, s, g),\n",
        "    \"BFS\": lambda m, s, g: bfs(m, s, g),\n",
        "    \"DLS\": lambda m, s, g: dls(m, s, g, limit=7),\n",
        "}\n",
        "\n",
        "# Run them\n",
        "for name, strat in starts.items():\n",
        "    path = strat(grid, start, goal)\n",
        "    if path:\n",
        "        print(name, len(path) - 1)\n",
        "        print(path)\n",
        "        print(path[::-1]) # Reverse the path before printing\n",
        "    else:\n",
        "        print(f\"Failed to find path from {start} to {goal}\")"
      ],
      "metadata": {
        "colab": {
          "base_uri": "https://localhost:8080/"
        },
        "id": "zXrB8y4xEyuC",
        "outputId": "430aa5ab-38f9-402e-de0f-2515599be24a"
      },
      "execution_count": 60,
      "outputs": [
        {
          "output_type": "stream",
          "name": "stdout",
          "text": [
            "DFS 13\n",
            "[(0, 0), (0, 1), (1, 2), (0, 3), (1, 4), (2, 3), (3, 2), (2, 1), (3, 0), (4, 1), (4, 2), (4, 3), (3, 4), (4, 4)]\n",
            "[(4, 4), (3, 4), (4, 3), (4, 2), (4, 1), (3, 0), (2, 1), (3, 2), (2, 3), (1, 4), (0, 3), (1, 2), (0, 1), (0, 0)]\n",
            "BFS 5\n",
            "[(0, 0), (0, 1), (1, 2), (2, 3), (3, 4), (4, 4)]\n",
            "[(4, 4), (3, 4), (2, 3), (1, 2), (0, 1), (0, 0)]\n",
            "DLS 7\n",
            "[(0, 0), (0, 1), (1, 2), (0, 1), (1, 2), (2, 3), (3, 4), (4, 4)]\n",
            "[(4, 4), (3, 4), (2, 3), (1, 2), (0, 1), (1, 2), (0, 1), (0, 0)]\n"
          ]
        }
      ]
    }
  ]
}