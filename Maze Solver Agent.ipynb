{
  "nbformat": 4,
  "nbformat_minor": 0,
  "metadata": {
    "colab": {
      "provenance": []
    },
    "kernelspec": {
      "name": "python3",
      "display_name": "Python 3"
    },
    "language_info": {
      "name": "python"
    }
  },
  "cells": [
    {
      "cell_type": "code",
      "execution_count": null,
      "metadata": {
        "id": "CBRYEZhVu0ag"
      },
      "outputs": [],
      "source": [
        "grid = [\n",
        "    [0, 0, 0, 0, 0],\n",
        "    [1, 1, 0, 1, 1],\n",
        "    [0, 0, 0, 0, 0],\n",
        "    [0, 1, 0, 1, 0],\n",
        "    [0, 0, 0, 0, 0],\n",
        "]\n"
      ]
    },
    {
      "cell_type": "code",
      "source": [
        "actions = [(0, -1), (0, 1), (-1, 0), (1, 0)]\n",
        "# up , down , left ,right\n",
        "# tuple"
      ],
      "metadata": {
        "id": "Tg5ZoObkzS4O"
      },
      "execution_count": null,
      "outputs": []
    },
    {
      "cell_type": "code",
      "source": [
        "def is_valid_move(position):\n",
        "  x,y =position\n",
        "  if 0 <= x < len(grid) and 0<= y < len(grid[0]) and grid[x][y]==0:\n",
        "    return True\n",
        "  else:\n",
        "    return False"
      ],
      "metadata": {
        "id": "I8GRqYahziU6"
      },
      "execution_count": null,
      "outputs": []
    },
    {
      "cell_type": "code",
      "source": [
        "def get_neighbours(position):\n",
        "   neighbours =[]\n",
        "   for action in actions:\n",
        "    dx , dy = action\n",
        "    neighbour = (position [0] +dx, position[1]+ dy )\n",
        "    if is_valid_move(neighbour):\n",
        "      neighbours.append(neighbour)\n",
        "   return neighbours"
      ],
      "metadata": {
        "id": "dVvVBP194yCr"
      },
      "execution_count": null,
      "outputs": []
    },
    {
      "cell_type": "code",
      "source": [
        "def dfs (current,goal,path):\n",
        "  if current == goal:\n",
        "    return True\n",
        "  for neighbour in get_neighbours(current):\n",
        "    if neighbour not in path:\n",
        "      path.append(neighbour)\n",
        "      if dfs (neighbour , goal ,path):\n",
        "        return True\n",
        "      path.remove(neighbour)\n",
        "  return False"
      ],
      "metadata": {
        "id": "2jSluBwT4rtf"
      },
      "execution_count": null,
      "outputs": []
    },
    {
      "cell_type": "code",
      "source": [
        "init_state =(0,0)\n",
        "goal_state =(4,4)\n",
        "path =[init_state]\n",
        "if dfs (init_state, goal_state, path):\n",
        "  print (\"Path found\", path)\n",
        "else:\n",
        "  print(\"Path not found\")\n"
      ],
      "metadata": {
        "colab": {
          "base_uri": "https://localhost:8080/"
        },
        "id": "idAZMfN_6su3",
        "outputId": "4648cf15-8102-4be7-c1ee-d85dabe4ed33"
      },
      "execution_count": null,
      "outputs": [
        {
          "output_type": "stream",
          "name": "stdout",
          "text": [
            "Path found [(0, 0), (0, 1), (0, 2), (1, 2), (2, 2), (2, 1), (2, 0), (3, 0), (4, 0), (4, 1), (4, 2), (4, 3), (4, 4)]\n"
          ]
        }
      ]
    }
  ]
}