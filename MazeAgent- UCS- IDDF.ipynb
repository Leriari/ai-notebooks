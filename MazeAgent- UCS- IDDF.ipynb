{
  "nbformat": 4,
  "nbformat_minor": 0,
  "metadata": {
    "colab": {
      "provenance": [],
      "collapsed_sections": [
        "vJcelqmQ2u9R"
      ]
    },
    "kernelspec": {
      "name": "python3",
      "display_name": "Python 3"
    },
    "language_info": {
      "name": "python"
    }
  },
  "cells": [
    {
      "cell_type": "markdown",
      "source": [
        "-----\n",
        "\n",
        "## Week 3: Sep 8 -- 12"
      ],
      "metadata": {
        "id": "X7AII60Syv7T"
      }
    },
    {
      "cell_type": "code",
      "source": [
        "# Maze Setup\n",
        "from collections import deque   # deque is like a fast queue we will use for BFS\n",
        "\n",
        "# We define a simple maze as a 2D grid\n",
        "# 0 = free path\n",
        "# 1 = wall\n",
        "# Start is at the top-left corner (0,0)\n",
        "# Goal is at the bottom-right corner (4,4)\n",
        "maze = [\n",
        "    [0, 1, 0, 0, 0],\n",
        "    [0, 1, 0, 1, 0],\n",
        "    [0, 0, 0, 1, 0],\n",
        "    [1, 1, 0, 1, 0],\n",
        "    [0, 0, 0, 0, 0]\n",
        "]\n",
        "\n",
        "start = (0, 0)   # starting position\n",
        "goal = (4, 4)    # goal position"
      ],
      "metadata": {
        "id": "ncyGTjFZyzJU"
      },
      "execution_count": 2,
      "outputs": []
    },
    {
      "cell_type": "code",
      "source": [
        "# Function to find valid moves from a position (merge of get_neighbour and is_valid_move from last week's class)\n",
        "def get_neighbors(maze, node):\n",
        "    x, y = node\n",
        "    neighbors = []\n",
        "\n",
        "    # Possible moves: right, down, left, up\n",
        "    moves = [(1,0), (-1,0), (0,-1), (0,1)]\n",
        "\n",
        "    # Uncomment this line if you also want diagonal moves\n",
        "    moves += [(1,1), (-1,-1), (1,-1), (-1,1)]  # diagonals\n",
        "\n",
        "    for dx, dy in moves:\n",
        "        nx, ny = x + dx, y + dy\n",
        "        # Check if new position is inside maze boundaries\n",
        "        if 0 <= nx < len(maze) and 0 <= ny < len(maze[0]):\n",
        "            # Check if the cell is free (0 = free, 1 = wall)\n",
        "            if maze[nx][ny] == 0:\n",
        "                neighbors.append((nx, ny))\n",
        "    return neighbors"
      ],
      "metadata": {
        "id": "pzJqis1xyzPQ"
      },
      "execution_count": 3,
      "outputs": []
    },
    {
      "cell_type": "code",
      "source": [
        "# BFS - explores the maze level by level, Faster than DFS\n",
        "def bfs(maze, start, goal):\n",
        "    # queue stores (current_position, path_taken)\n",
        "    queue = deque([(start, [start])])\n",
        "    visited = set()  # keep track of visited positions\n",
        "\n",
        "    while queue:\n",
        "        node, path = queue.popleft()  # take the first item in queue\n",
        "        if node == goal:\n",
        "            return path  # found goal, return path\n",
        "        if node not in visited:\n",
        "            visited.add(node)\n",
        "            for neighbor in get_neighbors(maze, node):\n",
        "                queue.append((neighbor, path + [neighbor]))\n",
        "    return None  # no path found"
      ],
      "metadata": {
        "id": "hcCuh8qdyzMJ"
      },
      "execution_count": 4,
      "outputs": []
    },
    {
      "cell_type": "code",
      "source": [
        "# DFS - goes as deep as possible along one path before backtracking\n",
        "def dfs(maze, start, goal):\n",
        "    stack = [(start, [start])]  # stack stores (current_position, path_taken)\n",
        "    visited = set()\n",
        "\n",
        "    while stack:\n",
        "        node, path = stack.pop()  # take last item in stack\n",
        "        if node == goal:\n",
        "            return path\n",
        "        if node not in visited:\n",
        "            visited.add(node)\n",
        "            for neighbor in get_neighbors(maze, node):\n",
        "                stack.append((neighbor, path + [neighbor]))\n",
        "    return None"
      ],
      "metadata": {
        "id": "3HAW_2Toz1Bs"
      },
      "execution_count": 5,
      "outputs": []
    },
    {
      "cell_type": "code",
      "source": [
        "# DLS - DFS with a maximum depth limit\n",
        "def dls(maze, start, goal, limit):\n",
        "    stack = [(start, [start])]\n",
        "    while stack:\n",
        "        node, path = stack.pop()\n",
        "        if node == goal:\n",
        "            return path\n",
        "        # Only continue if we haven't exceeded the depth limit\n",
        "        if len(path) <= limit:\n",
        "            for neighbor in get_neighbors(maze, node):\n",
        "                stack.append((neighbor, path + [neighbor]))\n",
        "    return None"
      ],
      "metadata": {
        "id": "h-DOblc0z0-f"
      },
      "execution_count": 6,
      "outputs": []
    },
    {
      "cell_type": "code",
      "source": [
        "#Iterative Deepening depth-first search\n",
        "def iddfs(maze, start, goal, max_depth):\n",
        "    for depth in range(max_depth +1):\n",
        "        result = dls(maze, start, goal, depth)\n",
        "        if result:\n",
        "            return result\n",
        "    return None\n"
      ],
      "metadata": {
        "id": "8cFGzfeQ3YBn"
      },
      "execution_count": 9,
      "outputs": []
    },
    {
      "cell_type": "code",
      "source": [
        "# Uniform Cost Search (UCS) - only works on weighted graphs\n",
        "import heapq\n",
        "\n",
        "def ucs(maze, start, goal):\n",
        "    # priority queue stores (cost, current_position, path_taken)\n",
        "    priority_queue = [(0, start, [start])]\n",
        "    visited = {}\n",
        "\n",
        "    while priority_queue:\n",
        "        cost, node, path = heapq.heappop(priority_queue)\n",
        "        if node == goal:\n",
        "            return path\n",
        "        if node in visited and visited[node] <= cost:\n",
        "          continue\n",
        "        visited[node] = cost\n",
        "        for neighbor in get_neighbors(maze, node):\n",
        "                heapq.heappush(priority_queue, (cost + 1, neighbor, path + [neighbor]))\n",
        "    return None\n"
      ],
      "metadata": {
        "id": "yEBxPZEV3b0C"
      },
      "execution_count": 13,
      "outputs": []
    },
    {
      "cell_type": "code",
      "source": [
        "# Run and compare algorithms (agent problem solving strategies)\n",
        "algorithms = {\n",
        "    \"DFS\": lambda m, s, g: dfs(m, s, g),\n",
        "    \"BFS\": lambda m, s, g: bfs(m, s, g),\n",
        "    \"DLS (limit=10)\": lambda m, s, g: dls(m, s, g, limit=10),\n",
        "    \"IDDFS\": lambda m, s, g: iddfs(m, s, g, max_depth=10),\n",
        "    \"UCS\": lambda m, s, g: ucs(m, s, g)\n",
        "}\n",
        "\n",
        "for name, algo in algorithms.items():\n",
        "    path = algo(maze, start, goal)\n",
        "    if path:\n",
        "        print(f\"{name}: Reached goal in {len(path)-1} moves\")\n",
        "        print(f\"Path: {path}\\n\")\n",
        "    else:\n",
        "        print(f\"{name}: Failed\\n\")"
      ],
      "metadata": {
        "colab": {
          "base_uri": "https://localhost:8080/"
        },
        "id": "qhlhieoPz87r",
        "outputId": "b347aa61-84ac-4785-e2f4-181e3913203a"
      },
      "execution_count": 14,
      "outputs": [
        {
          "output_type": "stream",
          "name": "stdout",
          "text": [
            "DFS: Reached goal in 9 moves\n",
            "Path: [(0, 0), (1, 0), (2, 1), (1, 2), (0, 3), (1, 4), (2, 4), (3, 4), (4, 3), (4, 4)]\n",
            "\n",
            "BFS: Reached goal in 5 moves\n",
            "Path: [(0, 0), (1, 0), (2, 1), (3, 2), (4, 3), (4, 4)]\n",
            "\n",
            "DLS (limit=10): Reached goal in 10 moves\n",
            "Path: [(0, 0), (1, 0), (2, 1), (1, 2), (0, 3), (1, 2), (0, 3), (1, 4), (2, 4), (3, 4), (4, 4)]\n",
            "\n",
            "IDDFS: Reached goal in 5 moves\n",
            "Path: [(0, 0), (1, 0), (2, 1), (3, 2), (4, 3), (4, 4)]\n",
            "\n",
            "UCS: Reached goal in 5 moves\n",
            "Path: [(0, 0), (1, 0), (2, 1), (3, 2), (4, 3), (4, 4)]\n",
            "\n"
          ]
        }
      ]
    },
    {
      "cell_type": "markdown",
      "source": [
        "With Diagonals On:\n",
        "- DFS: Reached goal in 9 moves\n",
        "    - Path: [(0, 0), (1, 0), (2, 1), (1, 2), (0, 3), (1, 4), (2, 4), (3, 4), (4, 3),(4, 4)]\n",
        "\n",
        "- BFS: Reached goal in 5 moves\n",
        "    - Path: [(0, 0), (1, 0), (2, 1), (3, 2), (4, 3), (4, 4)]\n",
        "\n",
        "- DLS (limit=10): Reached goal in 10 moves\n",
        "    - Path: [(0, 0), (1, 0), (2, 1), (1, 2), (0, 3), (1, 2), (0, 3), (1, 4), (2, 4), (3, 4), (4, 4)]\n",
        "\n",
        "\n",
        "<br>\n",
        "\n",
        "---\n",
        "<br>\n",
        "\n",
        "With Diagonals OFF:\n",
        "- DFS: Reached goal in 12 moves\n",
        "    - Path: [(0, 0), (1, 0), (2, 0), (2, 1), (2, 2), (1, 2), (0, 2), (0, 3), (0, 4), (1, 4), (2, 4), (3, 4), (4, 4)]\n",
        "\n",
        "- BFS: Reached goal in 8 moves\n",
        "    - Path: [(0, 0), (1, 0), (2, 0), (2, 1), (2, 2), (3, 2), (4, 2), (4, 3), (4, 4)]\n",
        "\n",
        "- DLS (limit=10): Reached goal in 10 moves\n",
        "    - Path: [(0, 0), (1, 0), (0, 0), (1, 0), (2, 0), (2, 1), (2, 2), (3, 2), (4, 2), (4, 3), (4, 4)]"
      ],
      "metadata": {
        "id": "a1wWqdRu0Sl3"
      }
    },
    {
      "cell_type": "markdown",
      "source": [
        "-----\n",
        "\n",
        "##### Generate Grid"
      ],
      "metadata": {
        "id": "vJcelqmQ2u9R"
      }
    },
    {
      "cell_type": "code",
      "source": [
        "import random\n",
        "\n",
        "def generate_random_maze(n=5, wall_prob=0.3):\n",
        "    \"\"\"\n",
        "    Generate a random n x n maze.\n",
        "\n",
        "    Args:\n",
        "        n (int): size of the square grid.\n",
        "        wall_prob (float): probability of a cell being a wall (between 0 and 1).\n",
        "\n",
        "    Returns:\n",
        "        maze (list of lists): the generated grid.\n",
        "        start (tuple): start coordinates (row, col).\n",
        "        goal (tuple): goal coordinates (row, col).\n",
        "    \"\"\"\n",
        "    # Step 1: Create grid with random walls\n",
        "    maze = []\n",
        "    for i in range(n):\n",
        "        row = []\n",
        "        for j in range(n):\n",
        "            if random.random() < wall_prob:\n",
        "                row.append(1)  # wall\n",
        "            else:\n",
        "                row.append(0)  # free\n",
        "        maze.append(row)\n",
        "\n",
        "    # Step 2: Pick random start and goal (must be free cells)\n",
        "    free_cells = [(i, j) for i in range(n) for j in range(n) if maze[i][j] == 0]\n",
        "    if len(free_cells) < 2:\n",
        "        raise ValueError(\"Too many walls! Try lowering wall_prob.\")\n",
        "\n",
        "    start = random.choice(free_cells)\n",
        "    goal = random.choice(free_cells)\n",
        "    while goal == start:\n",
        "        goal = random.choice(free_cells)\n",
        "\n",
        "    # Step 3: Print the maze for visualization\n",
        "    print(\"Generated Maze:\")\n",
        "    for i in range(n):\n",
        "        row_str = \"\"\n",
        "        for j in range(n):\n",
        "            if (i, j) == start:\n",
        "                row_str += \"S \"  # Start\n",
        "            elif (i, j) == goal:\n",
        "                row_str += \"G \"  # Goal\n",
        "            elif maze[i][j] == 1:\n",
        "                row_str += \"# \"  # Wall\n",
        "            else:\n",
        "                row_str += \". \"  # Free cell\n",
        "        print(row_str)\n",
        "    print()\n",
        "\n",
        "    return maze, start, goal\n"
      ],
      "metadata": {
        "id": "j3lCqUGm2xpr"
      },
      "execution_count": null,
      "outputs": []
    },
    {
      "cell_type": "code",
      "source": [
        "maze, start, goal = generate_random_maze(n=10, wall_prob=0.5)\n",
        "\n",
        "print(\"Start:\", start)\n",
        "print(\"Goal:\", goal)"
      ],
      "metadata": {
        "colab": {
          "base_uri": "https://localhost:8080/"
        },
        "id": "-fGOLl8R21IN",
        "outputId": "266fb056-0da0-48ac-923f-1b0b6ec19105"
      },
      "execution_count": null,
      "outputs": [
        {
          "output_type": "stream",
          "name": "stdout",
          "text": [
            "Generated Maze:\n",
            "# . . # # . # # . . \n",
            "# . . # . # # # # . \n",
            "# # . # . . . . . # \n",
            "G # . # . . # . # # \n",
            "# # . . . . # . . # \n",
            "# # # . . . . . # # \n",
            ". . # # . . . # . # \n",
            "# . . . . # # . # . \n",
            "# . . # # . . # . # \n",
            ". # # . . # # S . # \n",
            "\n",
            "Start: (9, 7)\n",
            "Goal: (3, 0)\n"
          ]
        }
      ]
    }
  ]
}